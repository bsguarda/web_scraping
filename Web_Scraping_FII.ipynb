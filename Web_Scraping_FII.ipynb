{
 "cells": [
  {
   "attachments": {},
   "cell_type": "markdown",
   "metadata": {},
   "source": [
    "### **Data Science**\n",
    "*by Bruno Guarda*   \n",
    "[<img alt=\"Colaboratory logo\" width=\"10%\" src=\"https://img.shields.io/badge/LinkedIn-0077B5?style=for-the-badge&logo=linkedin&logoColor=white\">](https://linkedin.com/in/bruno-guarda)\n",
    "[<img alt=\"Colaboratory logo\" width=\"10%\" src=\"https://img.shields.io/badge/Medium-12100E?style=for-the-badge&logo=medium&logoColor=white\">](https://medium.com/@bsguarda)\n",
    "[<img alt=\"Colaboratory logo\" width=\"10%\" src=\"https://img.shields.io/badge/GitHub-100000?style=for-the-badge&logo=github&logoColor=white\">](\n",
    "https://github.com/bsguarda)\n",
    "\n",
    "___"
   ]
  },
  {
   "attachments": {},
   "cell_type": "markdown",
   "metadata": {},
   "source": [
    "# Web Scraping\n",
    "______\n",
    "\n",
    "<center><img alt=\"Colaboratory logo\" width=\"60%\" src=\"https://raw.githubusercontent.com/bsguarda/web_scraping/main/WEB%20SCRAPING.jpg\"></center>\n",
    "\n"
   ]
  },
  {
   "attachments": {},
   "cell_type": "markdown",
   "metadata": {},
   "source": [
    "O termo Web Scraping ou \"raspagem de dados\" está associado a uma forma de mineração de dados na web que permite a extração de dados de sites, plataformas, online, redes sociais entre outros que estão publicamente acessíveis, transformando esses dados em informação estruturada para analises que geram insights valiosos.\n",
    "\n",
    "Essa \"raspagem\" pode ser feita de forma automatizada através de frameworks tanto no Python, como é o caso do [BeautifulSoup](https://beautiful-soup-4.readthedocs.io/en/latest/) que será usado nesse projeto, como em outra linguagem de programação e inclusive pode ser feita até pelo Excel.\n",
    "\n",
    "___\n",
    "### Fluxo de Raspagem de Dados\n",
    "\n",
    "\n",
    "<center><img alt=\"Colaboratory logo\" width=\"40%\" src=\"https://raw.githubusercontent.com/bsguarda/web_scraping/main/web_scraping_flow.png\"></center>\n",
    "\n",
    "Basicamente o fluxo da raspagem é feita dessa forma:\n",
    "\n",
    "* *Identifica o site de destino*\n",
    "* *Coleta URLs das páginas de onde você deseja extrair dados*\n",
    "* *Faz uma solicitação a esses URLs para obter o HTML da página*\n",
    "* *Usa localizadores para encontrar os dados no HTML*\n",
    "* *Salva os dados em um arquivo JSON ou CSV ou algum outro formato estruturado*\n"
   ]
  },
  {
   "attachments": {},
   "cell_type": "markdown",
   "metadata": {},
   "source": [
    "___\n",
    "# Web Scraping em dados de Fundos Imobiliários (FIIs)\n"
   ]
  },
  {
   "attachments": {},
   "cell_type": "markdown",
   "metadata": {},
   "source": [
    "O fundo imobiliário é uma espécie de “condomínio” de investidores, que reúnem seus recursos para que sejam aplicados em conjunto no mercado imobiliário. A dinâmica mais tradicional é que o dinheiro seja usado na construção ou na aquisição de imóveis, que depois sejam locados ou arrendados. Os ganhos obtidos com essas operações são divididos entre os participantes, na proporção em que cada um aplicou.\n",
    "\n",
    "Fundos imobiliários são classificados em alguns grupos diferentes:\n",
    "\n",
    "* Fundos de tijolo (ou de renda): São os que investem em ativos reais – ou seja, em imóveis de fato;\n",
    "\n",
    "* Fundos de papel (ou de recebíveis): Esses fundos compram títulos ligados ao mercado imobiliário, no lugar dos imóveis em si;\n",
    "\n",
    "* Fundos híbridos: Mesclam, na carteira, tanto papéis do segmento imobiliário (outros fundos imobiliários, LCIs, CRIs e entre outros) quanto investimentos em imóveis diretamente.\n",
    "\n",
    "Será utilizado os dados do site [Fundamentos](https://www.fundamentus.com.br/), que é um sistema on-line que disponibiliza informações financeiras e fundamentalistas das empresas com ações listadas na Bovespa e que possui completo banco de dados apresentado de forma acessível para auxiliar\n",
    "o investidor a encontrar as melhores opções de investimento.\n"
   ]
  },
  {
   "cell_type": "code",
   "execution_count": 27,
   "metadata": {},
   "outputs": [],
   "source": [
    "#importando as bibliotecas\n",
    "import requests\n",
    "import pandas as pd\n",
    "from bs4 import BeautifulSoup\n",
    "import numpy as np\n",
    "import matplotlib.pyplot as plt\n",
    "import seaborn as sns\n",
    "import math\n",
    "import warnings\n",
    "warnings.filterwarnings('ignore')\n",
    "\n",
    "\n",
    "!pip install requests-html --quiet"
   ]
  },
  {
   "attachments": {},
   "cell_type": "markdown",
   "metadata": {},
   "source": [
    "___\n",
    "### Coletando dados do site"
   ]
  },
  {
   "cell_type": "code",
   "execution_count": 106,
   "metadata": {},
   "outputs": [],
   "source": [
    "#url do site que será feita a coleta dos dados\n",
    "url = 'https://www.fundamentus.com.br/fii_resultado.php'\n",
    "\n",
    "#simulação de conexão comum evitando que sistema do site entenda que é um bot bloqueando o acesso\n",
    "headers = { \n",
    "    'User-Agent'      : 'Mozilla/5.0 (Windows NT 10.0; Win64; x64) AppleWebKit/537.36 (KHTML, like Gecko) Chrome/71.0.3578.98 Safari/537.36', \n",
    "    'Accept'          : 'text/html,application/xhtml+xml,application/xml;q=0.9,*/*;q=0.8', \n",
    "    'Accept-Language' : 'en-US,en;q=0.5',\n",
    "    'DNT'             : '1', \n",
    "    'Connection'      : 'close'\n",
    "}\n",
    "\n",
    "#requisição no site\n",
    "data = requests.get(url, headers=headers, timeout=6).text\n",
    "\n",
    "#coletando o html\n",
    "soup = BeautifulSoup(data, \"html.parser\")\n",
    "\n",
    "#atribuindo a variável tabela\n",
    "tabela = soup.find('table')"
   ]
  },
  {
   "attachments": {},
   "cell_type": "markdown",
   "metadata": {},
   "source": [
    "Será criado um Data Frame com as mesma colunas que estão no site para ser feito a concatenação dos dados com suas respectivas colunas."
   ]
  },
  {
   "cell_type": "code",
   "execution_count": 107,
   "metadata": {},
   "outputs": [
    {
     "data": {
      "text/html": [
       "<div>\n",
       "<style scoped>\n",
       "    .dataframe tbody tr th:only-of-type {\n",
       "        vertical-align: middle;\n",
       "    }\n",
       "\n",
       "    .dataframe tbody tr th {\n",
       "        vertical-align: top;\n",
       "    }\n",
       "\n",
       "    .dataframe thead th {\n",
       "        text-align: right;\n",
       "    }\n",
       "</style>\n",
       "<table border=\"1\" class=\"dataframe\">\n",
       "  <thead>\n",
       "    <tr style=\"text-align: right;\">\n",
       "      <th></th>\n",
       "      <th>Papel</th>\n",
       "      <th>Segmento</th>\n",
       "      <th>Cotacao</th>\n",
       "      <th>FFO Yield %</th>\n",
       "      <th>Dividend Yield %</th>\n",
       "      <th>P/VP</th>\n",
       "      <th>Valor de Mercado</th>\n",
       "      <th>Liquidez</th>\n",
       "      <th>Qtd de Imoveis</th>\n",
       "      <th>Preco do m2</th>\n",
       "      <th>Aluguel por m2</th>\n",
       "      <th>Cap Rate %</th>\n",
       "      <th>Vacancia Media %</th>\n",
       "    </tr>\n",
       "  </thead>\n",
       "  <tbody>\n",
       "  </tbody>\n",
       "</table>\n",
       "</div>"
      ],
      "text/plain": [
       "Empty DataFrame\n",
       "Columns: [Papel, Segmento, Cotacao, FFO Yield %, Dividend Yield %, P/VP, Valor de Mercado, Liquidez, Qtd de Imoveis, Preco do m2, Aluguel por m2, Cap Rate %, Vacancia Media %]\n",
       "Index: []"
      ]
     },
     "execution_count": 107,
     "metadata": {},
     "output_type": "execute_result"
    }
   ],
   "source": [
    "#criando o Data Frame\n",
    "df = pd.DataFrame(columns=['Papel', 'Segmento', 'Cotacao', 'FFO Yield %', \n",
    "                 'Dividend Yield %', 'P/VP', 'Valor de Mercado', 'Liquidez',\n",
    "                 'Qtd de Imoveis', 'Preco do m2', 'Aluguel por m2', 'Cap Rate %', 'Vacancia Media %'])\n",
    "\n",
    "df.head()                 "
   ]
  },
  {
   "attachments": {},
   "cell_type": "markdown",
   "metadata": {},
   "source": [
    "Agora será atribuído os valores a cada colunam, utilizando um laço for dentro do html buscando e incluindo em uma lista a tag <tr> que representa cada linha da tabela e <td> que representa cada coluna."
   ]
  },
  {
   "cell_type": "code",
   "execution_count": 108,
   "metadata": {},
   "outputs": [
    {
     "data": {
      "text/html": [
       "<div>\n",
       "<style scoped>\n",
       "    .dataframe tbody tr th:only-of-type {\n",
       "        vertical-align: middle;\n",
       "    }\n",
       "\n",
       "    .dataframe tbody tr th {\n",
       "        vertical-align: top;\n",
       "    }\n",
       "\n",
       "    .dataframe thead th {\n",
       "        text-align: right;\n",
       "    }\n",
       "</style>\n",
       "<table border=\"1\" class=\"dataframe\">\n",
       "  <thead>\n",
       "    <tr style=\"text-align: right;\">\n",
       "      <th></th>\n",
       "      <th>Papel</th>\n",
       "      <th>Segmento</th>\n",
       "      <th>Cotacao</th>\n",
       "      <th>FFO Yield %</th>\n",
       "      <th>Dividend Yield %</th>\n",
       "      <th>P/VP</th>\n",
       "      <th>Valor de Mercado</th>\n",
       "      <th>Liquidez</th>\n",
       "      <th>Qtd de Imoveis</th>\n",
       "      <th>Preco do m2</th>\n",
       "      <th>Aluguel por m2</th>\n",
       "      <th>Cap Rate %</th>\n",
       "      <th>Vacancia Media %</th>\n",
       "    </tr>\n",
       "  </thead>\n",
       "  <tbody>\n",
       "    <tr>\n",
       "      <th>0</th>\n",
       "      <td>AAZQ11</td>\n",
       "      <td>Títulos e Val. Mob.</td>\n",
       "      <td>9,58</td>\n",
       "      <td>0,00%</td>\n",
       "      <td>2,26%</td>\n",
       "      <td>1,00</td>\n",
       "      <td>230.277.000</td>\n",
       "      <td>347.180</td>\n",
       "      <td>0</td>\n",
       "      <td>0,00</td>\n",
       "      <td>0,00</td>\n",
       "      <td>0,00%</td>\n",
       "      <td>0,00%</td>\n",
       "    </tr>\n",
       "    <tr>\n",
       "      <th>1</th>\n",
       "      <td>ABCP11</td>\n",
       "      <td>Shoppings</td>\n",
       "      <td>65,63</td>\n",
       "      <td>27,85%</td>\n",
       "      <td>9,04%</td>\n",
       "      <td>0,72</td>\n",
       "      <td>309.057.000</td>\n",
       "      <td>86.388</td>\n",
       "      <td>1</td>\n",
       "      <td>3.566,61</td>\n",
       "      <td>1.126,44</td>\n",
       "      <td>31,58%</td>\n",
       "      <td>3,95%</td>\n",
       "    </tr>\n",
       "    <tr>\n",
       "      <th>2</th>\n",
       "      <td>AEFI11</td>\n",
       "      <td>Outros</td>\n",
       "      <td>174,90</td>\n",
       "      <td>7,35%</td>\n",
       "      <td>0,00%</td>\n",
       "      <td>1,21</td>\n",
       "      <td>393.647.000</td>\n",
       "      <td>0</td>\n",
       "      <td>7</td>\n",
       "      <td>5.033,90</td>\n",
       "      <td>341,65</td>\n",
       "      <td>6,79%</td>\n",
       "      <td>0,00%</td>\n",
       "    </tr>\n",
       "    <tr>\n",
       "      <th>3</th>\n",
       "      <td>AFCR11</td>\n",
       "      <td>Híbrido</td>\n",
       "      <td>103,15</td>\n",
       "      <td>11,91%</td>\n",
       "      <td>0,00%</td>\n",
       "      <td>1,00</td>\n",
       "      <td>186.437.000</td>\n",
       "      <td>0</td>\n",
       "      <td>0</td>\n",
       "      <td>0,00</td>\n",
       "      <td>0,00</td>\n",
       "      <td>0,00%</td>\n",
       "      <td>0,00%</td>\n",
       "    </tr>\n",
       "    <tr>\n",
       "      <th>4</th>\n",
       "      <td>AFHI11</td>\n",
       "      <td>Títulos e Val. Mob.</td>\n",
       "      <td>94,24</td>\n",
       "      <td>8,59%</td>\n",
       "      <td>15,04%</td>\n",
       "      <td>0,99</td>\n",
       "      <td>284.553.000</td>\n",
       "      <td>731.334</td>\n",
       "      <td>0</td>\n",
       "      <td>0,00</td>\n",
       "      <td>0,00</td>\n",
       "      <td>0,00%</td>\n",
       "      <td>0,00%</td>\n",
       "    </tr>\n",
       "  </tbody>\n",
       "</table>\n",
       "</div>"
      ],
      "text/plain": [
       "    Papel             Segmento Cotacao FFO Yield % Dividend Yield %  P/VP  \\\n",
       "0  AAZQ11  Títulos e Val. Mob.    9,58       0,00%            2,26%  1,00   \n",
       "1  ABCP11            Shoppings   65,63      27,85%            9,04%  0,72   \n",
       "2  AEFI11               Outros  174,90       7,35%            0,00%  1,21   \n",
       "3  AFCR11              Híbrido  103,15      11,91%            0,00%  1,00   \n",
       "4  AFHI11  Títulos e Val. Mob.   94,24       8,59%           15,04%  0,99   \n",
       "\n",
       "  Valor de Mercado Liquidez Qtd de Imoveis Preco do m2 Aluguel por m2  \\\n",
       "0      230.277.000  347.180              0        0,00           0,00   \n",
       "1      309.057.000   86.388              1    3.566,61       1.126,44   \n",
       "2      393.647.000        0              7    5.033,90         341,65   \n",
       "3      186.437.000        0              0        0,00           0,00   \n",
       "4      284.553.000  731.334              0        0,00           0,00   \n",
       "\n",
       "  Cap Rate % Vacancia Media %  \n",
       "0      0,00%            0,00%  \n",
       "1     31,58%            3,95%  \n",
       "2      6,79%            0,00%  \n",
       "3      0,00%            0,00%  \n",
       "4      0,00%            0,00%  "
      ]
     },
     "execution_count": 108,
     "metadata": {},
     "output_type": "execute_result"
    }
   ],
   "source": [
    "for row in tabela.tbody.find_all('tr'): # a tag <tr> \n",
    "    #buscando todas as colunas de cada linha\n",
    "    columns = row.find_all('td')  # a tag <td> \n",
    "    if(columns != []):\n",
    "        papel = columns[0].text.strip(' ')\n",
    "        segmento = columns[1].text.strip(' ')\n",
    "        cotacao = columns[2].text.strip(' ')\n",
    "        ffo_yield = columns[3].text.strip(' ')\n",
    "        dividend_yield = columns[4].text.strip(' ')\n",
    "        p_vp = columns[5].text.strip(' ')\n",
    "        valor_de_mercado = columns[6].text.strip(' ')\n",
    "        liquidez = columns[7].text.strip(' ')\n",
    "        qtd_de_imoveis = columns[8].text.strip(' ')\n",
    "        preco_do_m2 = columns[9].text.strip(' ')\n",
    "        aluguel_por_m2 = columns[10].text.strip(' ')\n",
    "        cap_rate = columns[11].text.strip(' ')\n",
    "        vacancia_media = columns[12].text.strip(' ')\n",
    "        #concatendo o Data Frame criado com as colunas que foram atribuídas a suas colunas\n",
    "        df = pd.concat([df, pd.DataFrame.from_records([{'Papel':papel, 'Segmento': segmento, 'Cotacao': cotacao, 'FFO Yield %': ffo_yield,\n",
    "                                                         'Dividend Yield %': dividend_yield, 'P/VP': p_vp, 'Valor de Mercado': valor_de_mercado,\n",
    "                                                         'Liquidez': liquidez, 'Qtd de Imoveis': qtd_de_imoveis, 'Preco do m2': preco_do_m2,\n",
    "                                                          'Aluguel por m2': aluguel_por_m2, 'Cap Rate %': cap_rate, 'Vacancia Media %': vacancia_media}])],\n",
    "                                                           ignore_index=True)\n",
    "\n",
    "df.head()                 "
   ]
  },
  {
   "attachments": {},
   "cell_type": "markdown",
   "metadata": {},
   "source": [
    "___\n",
    "### Verificando os tipos dos dados\n"
   ]
  },
  {
   "cell_type": "code",
   "execution_count": 109,
   "metadata": {},
   "outputs": [
    {
     "name": "stdout",
     "output_type": "stream",
     "text": [
      "<class 'pandas.core.frame.DataFrame'>\n",
      "RangeIndex: 391 entries, 0 to 390\n",
      "Data columns (total 13 columns):\n",
      " #   Column            Non-Null Count  Dtype \n",
      "---  ------            --------------  ----- \n",
      " 0   Papel             391 non-null    object\n",
      " 1   Segmento          391 non-null    object\n",
      " 2   Cotacao           391 non-null    object\n",
      " 3   FFO Yield %       391 non-null    object\n",
      " 4   Dividend Yield %  391 non-null    object\n",
      " 5   P/VP              391 non-null    object\n",
      " 6   Valor de Mercado  391 non-null    object\n",
      " 7   Liquidez          391 non-null    object\n",
      " 8   Qtd de Imoveis    391 non-null    object\n",
      " 9   Preco do m2       391 non-null    object\n",
      " 10  Aluguel por m2    391 non-null    object\n",
      " 11  Cap Rate %        391 non-null    object\n",
      " 12  Vacancia Media %  391 non-null    object\n",
      "dtypes: object(13)\n",
      "memory usage: 39.8+ KB\n"
     ]
    }
   ],
   "source": [
    "df.info()"
   ]
  },
  {
   "attachments": {},
   "cell_type": "markdown",
   "metadata": {},
   "source": [
    "Podemos visualizar que algumas colunas tem os dados com ',' para fazer a divisão decimal e utiliza 2 \".\" no mesmo dado e isso irá dificultar no momento da análise desses dados e também podemos verificar que todas a colunas estão como objeto (str). Será feito um tratamento nesses dados para facilitar a visualização e posterior análise."
   ]
  },
  {
   "attachments": {},
   "cell_type": "markdown",
   "metadata": {},
   "source": [
    "___\n",
    "### Tratamento dos dados"
   ]
  },
  {
   "cell_type": "code",
   "execution_count": 110,
   "metadata": {},
   "outputs": [],
   "source": [
    "#tratando os dados\n",
    "\n",
    "#tratando a coluna cotação\n",
    "df['Cotacao'] = df['Cotacao'].apply(lambda x: float(x.replace('.','').replace(',','.')))\n",
    "\n",
    "#tratando a coluna FFO Yield\n",
    "df['FFO Yield %'] = df['FFO Yield %'].apply(lambda x: float(x.replace('.', '').replace(',', '.').replace('%', '')))\n",
    "\n",
    "#tratando a coluna Dividend Yield\n",
    "df['Dividend Yield %'] = df['Dividend Yield %'].apply(lambda x: float(x.replace('.', '').replace(',', '.').replace('%', '')))\n",
    "\n",
    "#tratando a coluna P/VP\n",
    "df['P/VP'] = df['P/VP'].apply(lambda x: float(x.replace('.','').replace(',','.')))\n",
    "\n",
    "#tratando a coluna Valor de Mercado\n",
    "df['Valor de Mercado'] = df['Valor de Mercado'].apply(lambda x: round(float(x.replace('.','').replace(',','.'))))\n",
    "\n",
    "#tratando a coluna Liquidez\n",
    "df['Liquidez'] = df['Liquidez'].apply(lambda x: round(float(x.replace('.','').replace(',','.'))))\n",
    "\n",
    "#tratando a coluna Qtd de Imoveis\n",
    "df['Qtd de Imoveis'] = df['Qtd de Imoveis'].apply(lambda x: float(x))\n",
    "\n",
    "#tratando a coluna Preco do m2\n",
    "df['Preco do m2'] = df['Preco do m2'].apply(lambda x: float(x.replace('.','').replace(',','.')))\n",
    "\n",
    "#tratando a coluna Aluguel por m2\n",
    "df['Aluguel por m2'] = df['Aluguel por m2'].apply(lambda x: float(x.replace('.','').replace(',','.')))\n",
    "\n",
    "#tratando a coluna Cap Rate %\n",
    "df['Cap Rate %'] = df['Cap Rate %'].apply(lambda x: float(x.replace('.', '').replace(',', '.').replace('%', '')))\n",
    "\n",
    "#tratando a coluna Vacancia Media %\n",
    "df['Vacancia Media %'] = df['Vacancia Media %'].apply(lambda x: float(x.replace('.', '').replace(',', '.').replace('%', '')))\n",
    "\n"
   ]
  },
  {
   "cell_type": "code",
   "execution_count": 111,
   "metadata": {},
   "outputs": [
    {
     "data": {
      "text/html": [
       "<div>\n",
       "<style scoped>\n",
       "    .dataframe tbody tr th:only-of-type {\n",
       "        vertical-align: middle;\n",
       "    }\n",
       "\n",
       "    .dataframe tbody tr th {\n",
       "        vertical-align: top;\n",
       "    }\n",
       "\n",
       "    .dataframe thead th {\n",
       "        text-align: right;\n",
       "    }\n",
       "</style>\n",
       "<table border=\"1\" class=\"dataframe\">\n",
       "  <thead>\n",
       "    <tr style=\"text-align: right;\">\n",
       "      <th></th>\n",
       "      <th>Papel</th>\n",
       "      <th>Segmento</th>\n",
       "      <th>Cotacao</th>\n",
       "      <th>FFO Yield %</th>\n",
       "      <th>Dividend Yield %</th>\n",
       "      <th>P/VP</th>\n",
       "      <th>Valor de Mercado</th>\n",
       "      <th>Liquidez</th>\n",
       "      <th>Qtd de Imoveis</th>\n",
       "      <th>Preco do m2</th>\n",
       "      <th>Aluguel por m2</th>\n",
       "      <th>Cap Rate %</th>\n",
       "      <th>Vacancia Media %</th>\n",
       "    </tr>\n",
       "  </thead>\n",
       "  <tbody>\n",
       "    <tr>\n",
       "      <th>0</th>\n",
       "      <td>AAZQ11</td>\n",
       "      <td>Títulos e Val. Mob.</td>\n",
       "      <td>9.580</td>\n",
       "      <td>0.000</td>\n",
       "      <td>2.260</td>\n",
       "      <td>1.000</td>\n",
       "      <td>230277000</td>\n",
       "      <td>347180</td>\n",
       "      <td>0.000</td>\n",
       "      <td>0.000</td>\n",
       "      <td>0.000</td>\n",
       "      <td>0.000</td>\n",
       "      <td>0.000</td>\n",
       "    </tr>\n",
       "    <tr>\n",
       "      <th>1</th>\n",
       "      <td>ABCP11</td>\n",
       "      <td>Shoppings</td>\n",
       "      <td>65.630</td>\n",
       "      <td>27.850</td>\n",
       "      <td>9.040</td>\n",
       "      <td>0.720</td>\n",
       "      <td>309057000</td>\n",
       "      <td>86388</td>\n",
       "      <td>1.000</td>\n",
       "      <td>3566.610</td>\n",
       "      <td>1126.440</td>\n",
       "      <td>31.580</td>\n",
       "      <td>3.950</td>\n",
       "    </tr>\n",
       "    <tr>\n",
       "      <th>2</th>\n",
       "      <td>AEFI11</td>\n",
       "      <td>Outros</td>\n",
       "      <td>174.900</td>\n",
       "      <td>7.350</td>\n",
       "      <td>0.000</td>\n",
       "      <td>1.210</td>\n",
       "      <td>393647000</td>\n",
       "      <td>0</td>\n",
       "      <td>7.000</td>\n",
       "      <td>5033.900</td>\n",
       "      <td>341.650</td>\n",
       "      <td>6.790</td>\n",
       "      <td>0.000</td>\n",
       "    </tr>\n",
       "    <tr>\n",
       "      <th>3</th>\n",
       "      <td>AFCR11</td>\n",
       "      <td>Híbrido</td>\n",
       "      <td>103.150</td>\n",
       "      <td>11.910</td>\n",
       "      <td>0.000</td>\n",
       "      <td>1.000</td>\n",
       "      <td>186437000</td>\n",
       "      <td>0</td>\n",
       "      <td>0.000</td>\n",
       "      <td>0.000</td>\n",
       "      <td>0.000</td>\n",
       "      <td>0.000</td>\n",
       "      <td>0.000</td>\n",
       "    </tr>\n",
       "    <tr>\n",
       "      <th>4</th>\n",
       "      <td>AFHI11</td>\n",
       "      <td>Títulos e Val. Mob.</td>\n",
       "      <td>94.240</td>\n",
       "      <td>8.590</td>\n",
       "      <td>15.040</td>\n",
       "      <td>0.990</td>\n",
       "      <td>284553000</td>\n",
       "      <td>731334</td>\n",
       "      <td>0.000</td>\n",
       "      <td>0.000</td>\n",
       "      <td>0.000</td>\n",
       "      <td>0.000</td>\n",
       "      <td>0.000</td>\n",
       "    </tr>\n",
       "  </tbody>\n",
       "</table>\n",
       "</div>"
      ],
      "text/plain": [
       "    Papel             Segmento  Cotacao  FFO Yield %  Dividend Yield %  P/VP  \\\n",
       "0  AAZQ11  Títulos e Val. Mob.    9.580        0.000             2.260 1.000   \n",
       "1  ABCP11            Shoppings   65.630       27.850             9.040 0.720   \n",
       "2  AEFI11               Outros  174.900        7.350             0.000 1.210   \n",
       "3  AFCR11              Híbrido  103.150       11.910             0.000 1.000   \n",
       "4  AFHI11  Títulos e Val. Mob.   94.240        8.590            15.040 0.990   \n",
       "\n",
       "   Valor de Mercado  Liquidez  Qtd de Imoveis  Preco do m2  Aluguel por m2  \\\n",
       "0         230277000    347180           0.000        0.000           0.000   \n",
       "1         309057000     86388           1.000     3566.610        1126.440   \n",
       "2         393647000         0           7.000     5033.900         341.650   \n",
       "3         186437000         0           0.000        0.000           0.000   \n",
       "4         284553000    731334           0.000        0.000           0.000   \n",
       "\n",
       "   Cap Rate %  Vacancia Media %  \n",
       "0       0.000             0.000  \n",
       "1      31.580             3.950  \n",
       "2       6.790             0.000  \n",
       "3       0.000             0.000  \n",
       "4       0.000             0.000  "
      ]
     },
     "execution_count": 111,
     "metadata": {},
     "output_type": "execute_result"
    }
   ],
   "source": [
    "#verificando as primeiras linhas\n",
    "df.head()"
   ]
  },
  {
   "cell_type": "code",
   "execution_count": 112,
   "metadata": {},
   "outputs": [
    {
     "name": "stdout",
     "output_type": "stream",
     "text": [
      "<class 'pandas.core.frame.DataFrame'>\n",
      "RangeIndex: 391 entries, 0 to 390\n",
      "Data columns (total 13 columns):\n",
      " #   Column            Non-Null Count  Dtype  \n",
      "---  ------            --------------  -----  \n",
      " 0   Papel             391 non-null    object \n",
      " 1   Segmento          391 non-null    object \n",
      " 2   Cotacao           391 non-null    float64\n",
      " 3   FFO Yield %       391 non-null    float64\n",
      " 4   Dividend Yield %  391 non-null    float64\n",
      " 5   P/VP              391 non-null    float64\n",
      " 6   Valor de Mercado  391 non-null    int64  \n",
      " 7   Liquidez          391 non-null    int64  \n",
      " 8   Qtd de Imoveis    391 non-null    float64\n",
      " 9   Preco do m2       391 non-null    float64\n",
      " 10  Aluguel por m2    391 non-null    float64\n",
      " 11  Cap Rate %        391 non-null    float64\n",
      " 12  Vacancia Media %  391 non-null    float64\n",
      "dtypes: float64(9), int64(2), object(2)\n",
      "memory usage: 39.8+ KB\n"
     ]
    }
   ],
   "source": [
    "#verificando as informações do data frame\n",
    "df.info()"
   ]
  },
  {
   "attachments": {},
   "cell_type": "markdown",
   "metadata": {},
   "source": [
    "Podemos verificar agora que todas as mudanças nos valores foram feitas com sucesso e as mudanças dos tipos das colunas também estão de acordo com o que representa cada dado em sua respectiva coluna."
   ]
  },
  {
   "attachments": {},
   "cell_type": "markdown",
   "metadata": {},
   "source": [
    "___\n",
    "## Composição dos Indicadores dos FIIs\n",
    "\n",
    "* *Papel* - Nome atribuído ao FII;\n",
    "\n",
    "* *Segmento* - Em qual segmento esse Fundo está alocado;\n",
    "\n",
    "* *Cotação* - Valor de uma cota de um FII;\n",
    "\n",
    "* *FFO Yield %* - É o fluxo de caixa proveniente das operações;\n",
    "\n",
    "* *Dividend Yield* - É o rendimento do dividendo do FII;\n",
    "\n",
    "* *P/PV* - Representa o patrimônio líquido do FII (o caixa e os imóveis) dividido pela quantidade de cotas que o fundo possui no mercado;\n",
    "\n",
    "* *Valor de Mercado* - Representa o valor de avaliação dos ativos de determinado FII;\n",
    "\n",
    "* *Liquidez* - É a capacidade de transformar um FII em dinheiro durante o período de um dia;\n",
    "\n",
    "* *Qtd de Imóveis* - Quantidade de imoveis que compõe aquele determinado FII.\n",
    "\n",
    "* *Preço do m²* - Valor do m² de um determinado FII;\n",
    "\n",
    "* *Aluguel por m²* - Valor de aluguel do m² de um determinado FII;\n",
    "\n",
    "* *Cap Rate* - É a relação entre a renda anual produzida por um ativo imobiliário e seu valor atual de mercado;\n",
    "\n",
    "* *Vacância Média* - Representa o percentual de espaço desocupado dos empreendimentos em relação à área bruta locável (ABL) total do FII\n",
    "\n"
   ]
  },
  {
   "attachments": {},
   "cell_type": "markdown",
   "metadata": {},
   "source": [
    "___\n",
    "## Insights  \n",
    "\n",
    "Com esses dados bem definidos e tratados, através de analise exploratória, será respondida os seguintes questionamentos:\n",
    "\n",
    "1 - Quantos papeis de FIIs existem?\n",
    "\n",
    "2 - Quantos e quais são os tipos segmentos existem nos FIIs?\n",
    "\n",
    "3 - Qual as 10 maiores e menores cotações dos FIIs?\n",
    "\n",
    "4 - Quais FIIs tem os maiores dividendos e qual a média?\n",
    "\n",
    "5 - Qual FII tem o maior e menor FFO Yield (Fluxo de caixa)?\n",
    "\n",
    "6 - Qual FII tem o maior e menor valor de mercado e qual o valor médio?\n",
    "\n",
    "7 - Qual FII tem a maior liquidez e qual a média de liquidez do FIIs?\n",
    "\n",
    "8 - Os 10 FIIs de maiores cotações também são os que pagam os maiores dividendos?\n",
    "\n",
    "9 - O FII com o maior valor de mercado é o que tem o maior fluxo de caixa?\n",
    "\n",
    "10 - O FII com maior valor de mercado é o que tem a maior liquidez?"
   ]
  },
  {
   "attachments": {},
   "cell_type": "markdown",
   "metadata": {},
   "source": [
    "___\n",
    "### 1 - Quantos papeis de FIIs existem?"
   ]
  },
  {
   "cell_type": "code",
   "execution_count": 191,
   "metadata": {},
   "outputs": [
    {
     "name": "stdout",
     "output_type": "stream",
     "text": [
      "\n",
      "Existem 391 papeis FIIs\n"
     ]
    }
   ],
   "source": [
    "print('\\nExistem {} papeis FIIs'.format(df['Papel'].count()))"
   ]
  },
  {
   "attachments": {},
   "cell_type": "markdown",
   "metadata": {},
   "source": [
    "___\n",
    "### 2 - Quantos e quais são os tipos segmentos existem nos FIIs?"
   ]
  },
  {
   "cell_type": "code",
   "execution_count": 114,
   "metadata": {},
   "outputs": [
    {
     "name": "stdout",
     "output_type": "stream",
     "text": [
      "Existem 10 tipos de segmentos FIIs\n",
      "\n",
      "São eles: \n",
      "\n",
      "Títulos e Val. Mob.    134\n",
      "Híbrido                 90\n",
      "Lajes Corporativas      52\n",
      "Outros                  40\n",
      "Shoppings               26\n",
      "Logística               25\n",
      "Residencial             16\n",
      "Hospital                 5\n",
      "Hotel                    2\n",
      "                         1\n",
      "Name: Segmento, dtype: int64\n"
     ]
    }
   ],
   "source": [
    "print('Existem {} tipos de segmentos FIIs\\n'.format(df['Segmento'].value_counts().count()))\n",
    "print('São eles: \\n\\n{}'.format(df['Segmento'].value_counts()))"
   ]
  },
  {
   "cell_type": "code",
   "execution_count": 115,
   "metadata": {},
   "outputs": [
    {
     "data": {
      "image/png": "[encoded data removed]",
      "text/plain": [
       "<Figure size 640x480 with 1 Axes>"
      ]
     },
     "metadata": {},
     "output_type": "display_data"
    }
   ],
   "source": [
    "#plotando o gráfico com a contagem dos segmentos\n",
    "segmento_plot = sns.countplot(df['Segmento'])\n",
    "plt.title('Segmentos dos FIIs')\n",
    "segmento_plot.get_yaxis().set_visible(False)\n",
    "plt.xticks(rotation=75)\n",
    "for x in ['top', 'bottom', 'right', 'left']:\n",
    "    segmento_plot.spines[x].set_visible(False)\n",
    "segmento_plot.set_xlabel(' ')\n",
    "plt.show()    "
   ]
  },
  {
   "attachments": {},
   "cell_type": "markdown",
   "metadata": {},
   "source": [
    "Existe um registro sem nomenclatura então será considerado como `Outros`, podemos afirmar então que existem 9 tipos de segmentos de FIIs"
   ]
  },
  {
   "attachments": {},
   "cell_type": "markdown",
   "metadata": {},
   "source": [
    "___\n",
    "### 3 - Qual as 10 maiores e menores cotações dos FIIs?"
   ]
  },
  {
   "cell_type": "code",
   "execution_count": 116,
   "metadata": {},
   "outputs": [
    {
     "data": {
      "image/png": "[encoded data removed]",
      "text/plain": [
       "<Figure size 900x600 with 1 Axes>"
      ]
     },
     "metadata": {},
     "output_type": "display_data"
    }
   ],
   "source": [
    "#FIIs com as 10 maiores cotações\n",
    "cotacao_top10 = df[['Papel', 'Cotacao']].sort_values(by='Cotacao', ascending=False)[0:10]\n",
    "cotacao_top10\n",
    "\n",
    "#plotando o gráfico\n",
    "plt.figure(figsize=(9,6))\n",
    "plt.bar(cotacao_top10['Papel'], cotacao_top10['Cotacao'])\n",
    "plt.title('FIIs com as 10 maiores cotações')\n",
    "plt.show()"
   ]
  },
  {
   "cell_type": "code",
   "execution_count": 117,
   "metadata": {},
   "outputs": [
    {
     "data": {
      "image/png": "[encoded data removed]",
      "text/plain": [
       "<Figure size 900x600 with 1 Axes>"
      ]
     },
     "metadata": {},
     "output_type": "display_data"
    }
   ],
   "source": [
    "#FIIs com as 10 menores cotações\n",
    "cotacao_top10_m = df[['Papel', 'Cotacao']].sort_values(by='Cotacao')[0:10]\n",
    "\n",
    "#plotando o gráfico\n",
    "plt.figure(figsize=(9,6))\n",
    "cotacao_top10_m_plot= plt.bar(cotacao_top10_m['Papel'], cotacao_top10_m['Cotacao'])\n",
    "plt.title('FIIs com as 10 menores cotações')\n",
    "plt.show()              "
   ]
  },
  {
   "attachments": {},
   "cell_type": "markdown",
   "metadata": {},
   "source": [
    "___\n",
    "### 4 - Quais FIIs tem os maiores dividendos e qual a média?"
   ]
  },
  {
   "cell_type": "code",
   "execution_count": 118,
   "metadata": {},
   "outputs": [
    {
     "name": "stdout",
     "output_type": "stream",
     "text": [
      "A média dos dividendos é de 4183463.7653708435\n",
      "\n",
      "Os FIIs com os maiores dividendos são:\n"
     ]
    },
    {
     "data": {
      "text/html": [
       "<div>\n",
       "<style scoped>\n",
       "    .dataframe tbody tr th:only-of-type {\n",
       "        vertical-align: middle;\n",
       "    }\n",
       "\n",
       "    .dataframe tbody tr th {\n",
       "        vertical-align: top;\n",
       "    }\n",
       "\n",
       "    .dataframe thead th {\n",
       "        text-align: right;\n",
       "    }\n",
       "</style>\n",
       "<table border=\"1\" class=\"dataframe\">\n",
       "  <thead>\n",
       "    <tr style=\"text-align: right;\">\n",
       "      <th></th>\n",
       "      <th>Papel</th>\n",
       "      <th>Dividend Yield %</th>\n",
       "    </tr>\n",
       "  </thead>\n",
       "  <tbody>\n",
       "    <tr>\n",
       "      <th>347</th>\n",
       "      <td>TSNC11</td>\n",
       "      <td>1635730000.000</td>\n",
       "    </tr>\n",
       "    <tr>\n",
       "      <th>55</th>\n",
       "      <td>BVAR11</td>\n",
       "      <td>351.610</td>\n",
       "    </tr>\n",
       "    <tr>\n",
       "      <th>169</th>\n",
       "      <td>IDFI11</td>\n",
       "      <td>92.630</td>\n",
       "    </tr>\n",
       "    <tr>\n",
       "      <th>295</th>\n",
       "      <td>RDPD11</td>\n",
       "      <td>85.390</td>\n",
       "    </tr>\n",
       "    <tr>\n",
       "      <th>303</th>\n",
       "      <td>RNDP11</td>\n",
       "      <td>84.210</td>\n",
       "    </tr>\n",
       "    <tr>\n",
       "      <th>189</th>\n",
       "      <td>KINP11</td>\n",
       "      <td>69.680</td>\n",
       "    </tr>\n",
       "    <tr>\n",
       "      <th>170</th>\n",
       "      <td>IDGR11</td>\n",
       "      <td>64.330</td>\n",
       "    </tr>\n",
       "    <tr>\n",
       "      <th>196</th>\n",
       "      <td>KNRE11</td>\n",
       "      <td>52.300</td>\n",
       "    </tr>\n",
       "    <tr>\n",
       "      <th>299</th>\n",
       "      <td>REIT11</td>\n",
       "      <td>51.240</td>\n",
       "    </tr>\n",
       "    <tr>\n",
       "      <th>253</th>\n",
       "      <td>PLRI11</td>\n",
       "      <td>37.710</td>\n",
       "    </tr>\n",
       "  </tbody>\n",
       "</table>\n",
       "</div>"
      ],
      "text/plain": [
       "      Papel  Dividend Yield %\n",
       "347  TSNC11    1635730000.000\n",
       "55   BVAR11           351.610\n",
       "169  IDFI11            92.630\n",
       "295  RDPD11            85.390\n",
       "303  RNDP11            84.210\n",
       "189  KINP11            69.680\n",
       "170  IDGR11            64.330\n",
       "196  KNRE11            52.300\n",
       "299  REIT11            51.240\n",
       "253  PLRI11            37.710"
      ]
     },
     "execution_count": 118,
     "metadata": {},
     "output_type": "execute_result"
    }
   ],
   "source": [
    "#filtrando os Top 10 em dividendos\n",
    "top_div = df[['Papel','Dividend Yield %']].sort_values(by='Dividend Yield %', ascending=False)[0:10]\n",
    "\n",
    "#setando as casas decimais\n",
    "pd.set_option('float_format', '{:.3f}'.format)\n",
    "\n",
    "print('A média dos dividendos é de {}\\n\\nOs FIIs com os maiores dividendos são:'. format(df['Dividend Yield %'].mean()))\n",
    "\n",
    "top_div"
   ]
  },
  {
   "attachments": {},
   "cell_type": "markdown",
   "metadata": {},
   "source": [
    "Podemos verificar que o valor de dividendo mais alto está muito discrepante e podemos considera-lo como um outlier. Será imputado nele a média de todos os outros valores para chegarmos a um valor mais palpável"
   ]
  },
  {
   "cell_type": "code",
   "execution_count": 119,
   "metadata": {},
   "outputs": [],
   "source": [
    "#calculando a média \n",
    "media_div = df[['Papel','Dividend Yield %']].sort_values(by='Dividend Yield %', ascending=False)[1:].mean()\n",
    "\n",
    "#modificando o Papel TSNC11 que está na linha 347 e coluna 4 para a média com a função iat.\n",
    "df.iat[347, 4] = media_div"
   ]
  },
  {
   "cell_type": "code",
   "execution_count": 126,
   "metadata": {},
   "outputs": [
    {
     "name": "stdout",
     "output_type": "stream",
     "text": [
      "A média dos dividendos é de 11.1084\n",
      "\n",
      "Os FIIs com os maiores dividendos são:\n"
     ]
    },
    {
     "data": {
      "text/html": [
       "<div>\n",
       "<style scoped>\n",
       "    .dataframe tbody tr th:only-of-type {\n",
       "        vertical-align: middle;\n",
       "    }\n",
       "\n",
       "    .dataframe tbody tr th {\n",
       "        vertical-align: top;\n",
       "    }\n",
       "\n",
       "    .dataframe thead th {\n",
       "        text-align: right;\n",
       "    }\n",
       "</style>\n",
       "<table border=\"1\" class=\"dataframe\">\n",
       "  <thead>\n",
       "    <tr style=\"text-align: right;\">\n",
       "      <th></th>\n",
       "      <th>Papel</th>\n",
       "      <th>Dividend Yield %</th>\n",
       "    </tr>\n",
       "  </thead>\n",
       "  <tbody>\n",
       "    <tr>\n",
       "      <th>55</th>\n",
       "      <td>BVAR11</td>\n",
       "      <td>351.610</td>\n",
       "    </tr>\n",
       "    <tr>\n",
       "      <th>169</th>\n",
       "      <td>IDFI11</td>\n",
       "      <td>92.630</td>\n",
       "    </tr>\n",
       "    <tr>\n",
       "      <th>295</th>\n",
       "      <td>RDPD11</td>\n",
       "      <td>85.390</td>\n",
       "    </tr>\n",
       "    <tr>\n",
       "      <th>303</th>\n",
       "      <td>RNDP11</td>\n",
       "      <td>84.210</td>\n",
       "    </tr>\n",
       "    <tr>\n",
       "      <th>189</th>\n",
       "      <td>KINP11</td>\n",
       "      <td>69.680</td>\n",
       "    </tr>\n",
       "    <tr>\n",
       "      <th>170</th>\n",
       "      <td>IDGR11</td>\n",
       "      <td>64.330</td>\n",
       "    </tr>\n",
       "    <tr>\n",
       "      <th>196</th>\n",
       "      <td>KNRE11</td>\n",
       "      <td>52.300</td>\n",
       "    </tr>\n",
       "    <tr>\n",
       "      <th>299</th>\n",
       "      <td>REIT11</td>\n",
       "      <td>51.240</td>\n",
       "    </tr>\n",
       "    <tr>\n",
       "      <th>253</th>\n",
       "      <td>PLRI11</td>\n",
       "      <td>37.710</td>\n",
       "    </tr>\n",
       "    <tr>\n",
       "      <th>76</th>\n",
       "      <td>CXTL11</td>\n",
       "      <td>35.480</td>\n",
       "    </tr>\n",
       "  </tbody>\n",
       "</table>\n",
       "</div>"
      ],
      "text/plain": [
       "      Papel  Dividend Yield %\n",
       "55   BVAR11           351.610\n",
       "169  IDFI11            92.630\n",
       "295  RDPD11            85.390\n",
       "303  RNDP11            84.210\n",
       "189  KINP11            69.680\n",
       "170  IDGR11            64.330\n",
       "196  KNRE11            52.300\n",
       "299  REIT11            51.240\n",
       "253  PLRI11            37.710\n",
       "76   CXTL11            35.480"
      ]
     },
     "execution_count": 126,
     "metadata": {},
     "output_type": "execute_result"
    }
   ],
   "source": [
    "#verificando novamente após as modificações\n",
    "top_div = df[['Papel','Dividend Yield %']].sort_values(by='Dividend Yield %', ascending=False)[0:10]\n",
    "\n",
    "#média\n",
    "print('A média dos dividendos é de {:.4f}\\n\\nOs FIIs com os maiores dividendos são:'. format(df['Dividend Yield %'].mean()))\n",
    "\n",
    "top_div"
   ]
  },
  {
   "attachments": {},
   "cell_type": "markdown",
   "metadata": {},
   "source": [
    "___\n",
    "### 5 - Qual FII tem o maior e menor FFO Yield (Fluxo de caixa)?"
   ]
  },
  {
   "cell_type": "code",
   "execution_count": 135,
   "metadata": {},
   "outputs": [
    {
     "name": "stdout",
     "output_type": "stream",
     "text": [
      "O FII com o maior Fluxo de Caixa é o:\n",
      "\n",
      "Papel            ZIFI11\n",
      "FFO Yield %   91706.560\n",
      "dtype: object\n",
      "\n",
      "\n",
      "O FII com o menor Fluxo de Caixa é o:\n",
      "\n",
      "Papel           AAZQ11\n",
      "FFO Yield %   -758.500\n",
      "dtype: object\n"
     ]
    }
   ],
   "source": [
    "print('O FII com o maior Fluxo de Caixa é o:\\n\\n{}'.format(df[['Papel','FFO Yield %']].max()))\n",
    "print('\\n\\nO FII com o menor Fluxo de Caixa é o:\\n\\n{}'.format(df[['Papel','FFO Yield %']].min()))"
   ]
  },
  {
   "attachments": {},
   "cell_type": "markdown",
   "metadata": {},
   "source": [
    "____\n",
    "### 6 - Qual FII tem o maior e menor valor de mercado e qual o valor médio?"
   ]
  },
  {
   "cell_type": "code",
   "execution_count": 144,
   "metadata": {},
   "outputs": [
    {
     "name": "stdout",
     "output_type": "stream",
     "text": [
      "O FII que tem o maior Valor de Mercado é:\n",
      "\n",
      "Papel                    ZIFI11\n",
      "Valor de Mercado    25520000000\n",
      "dtype: object\n",
      "\n",
      "\n",
      "O FII que tem o menor Valor de Mercado é:\n",
      "\n",
      "Papel               AAZQ11\n",
      "Valor de Mercado         0\n",
      "dtype: object\n",
      "\n",
      "\n",
      "O Valor de Mercado médio é: 520163577.23\n"
     ]
    }
   ],
   "source": [
    "print('O FII que tem o maior Valor de Mercado é:\\n\\n{}'.format(df[['Papel', 'Valor de Mercado']].max()))\n",
    "print('\\n\\nO FII que tem o menor Valor de Mercado é:\\n\\n{}\\n\\n'.format(df[['Papel', 'Valor de Mercado']].min()))\n",
    "print('O Valor de Mercado médio é: {:.2f}'.format(df['Valor de Mercado'].mean()))"
   ]
  },
  {
   "attachments": {},
   "cell_type": "markdown",
   "metadata": {},
   "source": [
    "___\n",
    "### 7 - Qual FII tem a maior liquidez e qual a média de liquidez do FIIs?"
   ]
  },
  {
   "cell_type": "code",
   "execution_count": 153,
   "metadata": {},
   "outputs": [
    {
     "name": "stdout",
     "output_type": "stream",
     "text": [
      "O FII com maior liquidez é:\n",
      "\n",
      "Papel         ZIFI11\n",
      "Liquidez    11639100\n",
      "dtype: object\n",
      "\n",
      "\n",
      "A média da Liquidez dos FIIs é de:\n",
      "\n",
      "595785.60\n"
     ]
    }
   ],
   "source": [
    "print('O FII com maior liquidez é:\\n\\n{}'.format(df[['Papel', 'Liquidez']].max()))\n",
    "print('\\n\\nA média da Liquidez dos FIIs é de:\\n\\n{:.2f}'.format(df['Liquidez'].mean()))"
   ]
  },
  {
   "attachments": {},
   "cell_type": "markdown",
   "metadata": {},
   "source": [
    "___\n",
    "### 8 - Os 10 FIIs de maiores cotações também são os que pagam os maiores dividendos?"
   ]
  },
  {
   "cell_type": "code",
   "execution_count": 174,
   "metadata": {},
   "outputs": [
    {
     "data": {
      "text/html": [
       "<div>\n",
       "<style scoped>\n",
       "    .dataframe tbody tr th:only-of-type {\n",
       "        vertical-align: middle;\n",
       "    }\n",
       "\n",
       "    .dataframe tbody tr th {\n",
       "        vertical-align: top;\n",
       "    }\n",
       "\n",
       "    .dataframe thead th {\n",
       "        text-align: right;\n",
       "    }\n",
       "</style>\n",
       "<table border=\"1\" class=\"dataframe\">\n",
       "  <thead>\n",
       "    <tr style=\"text-align: right;\">\n",
       "      <th></th>\n",
       "      <th>Papel</th>\n",
       "      <th>Dividend Yield %</th>\n",
       "      <th>Cotacao</th>\n",
       "    </tr>\n",
       "  </thead>\n",
       "  <tbody>\n",
       "    <tr>\n",
       "      <th>55</th>\n",
       "      <td>BVAR11</td>\n",
       "      <td>351.610</td>\n",
       "      <td>NaN</td>\n",
       "    </tr>\n",
       "    <tr>\n",
       "      <th>169</th>\n",
       "      <td>IDFI11</td>\n",
       "      <td>92.630</td>\n",
       "      <td>NaN</td>\n",
       "    </tr>\n",
       "    <tr>\n",
       "      <th>295</th>\n",
       "      <td>RDPD11</td>\n",
       "      <td>85.390</td>\n",
       "      <td>NaN</td>\n",
       "    </tr>\n",
       "    <tr>\n",
       "      <th>303</th>\n",
       "      <td>RNDP11</td>\n",
       "      <td>84.210</td>\n",
       "      <td>NaN</td>\n",
       "    </tr>\n",
       "    <tr>\n",
       "      <th>189</th>\n",
       "      <td>KINP11</td>\n",
       "      <td>69.680</td>\n",
       "      <td>NaN</td>\n",
       "    </tr>\n",
       "    <tr>\n",
       "      <th>170</th>\n",
       "      <td>IDGR11</td>\n",
       "      <td>64.330</td>\n",
       "      <td>NaN</td>\n",
       "    </tr>\n",
       "    <tr>\n",
       "      <th>196</th>\n",
       "      <td>KNRE11</td>\n",
       "      <td>52.300</td>\n",
       "      <td>NaN</td>\n",
       "    </tr>\n",
       "    <tr>\n",
       "      <th>299</th>\n",
       "      <td>REIT11</td>\n",
       "      <td>51.240</td>\n",
       "      <td>NaN</td>\n",
       "    </tr>\n",
       "    <tr>\n",
       "      <th>253</th>\n",
       "      <td>PLRI11</td>\n",
       "      <td>37.710</td>\n",
       "      <td>NaN</td>\n",
       "    </tr>\n",
       "    <tr>\n",
       "      <th>76</th>\n",
       "      <td>CXTL11</td>\n",
       "      <td>35.480</td>\n",
       "      <td>NaN</td>\n",
       "    </tr>\n",
       "    <tr>\n",
       "      <th>282</th>\n",
       "      <td>RBRM11</td>\n",
       "      <td>NaN</td>\n",
       "      <td>160000.000</td>\n",
       "    </tr>\n",
       "    <tr>\n",
       "      <th>92</th>\n",
       "      <td>ERCR11</td>\n",
       "      <td>NaN</td>\n",
       "      <td>76000.000</td>\n",
       "    </tr>\n",
       "    <tr>\n",
       "      <th>35</th>\n",
       "      <td>BLMO11</td>\n",
       "      <td>NaN</td>\n",
       "      <td>20000.000</td>\n",
       "    </tr>\n",
       "    <tr>\n",
       "      <th>335</th>\n",
       "      <td>STRX11</td>\n",
       "      <td>NaN</td>\n",
       "      <td>15816.000</td>\n",
       "    </tr>\n",
       "    <tr>\n",
       "      <th>12</th>\n",
       "      <td>ANCR11B</td>\n",
       "      <td>NaN</td>\n",
       "      <td>3450.000</td>\n",
       "    </tr>\n",
       "    <tr>\n",
       "      <th>117</th>\n",
       "      <td>FTCE11B</td>\n",
       "      <td>NaN</td>\n",
       "      <td>2870.000</td>\n",
       "    </tr>\n",
       "    <tr>\n",
       "      <th>256</th>\n",
       "      <td>PQDP11</td>\n",
       "      <td>NaN</td>\n",
       "      <td>2070.000</td>\n",
       "    </tr>\n",
       "    <tr>\n",
       "      <th>19</th>\n",
       "      <td>BBFI11B</td>\n",
       "      <td>NaN</td>\n",
       "      <td>2060.000</td>\n",
       "    </tr>\n",
       "    <tr>\n",
       "      <th>112</th>\n",
       "      <td>FLRP11</td>\n",
       "      <td>NaN</td>\n",
       "      <td>1644.990</td>\n",
       "    </tr>\n",
       "    <tr>\n",
       "      <th>125</th>\n",
       "      <td>GESE11B</td>\n",
       "      <td>NaN</td>\n",
       "      <td>1520.000</td>\n",
       "    </tr>\n",
       "  </tbody>\n",
       "</table>\n",
       "</div>"
      ],
      "text/plain": [
       "       Papel  Dividend Yield %    Cotacao\n",
       "55    BVAR11           351.610        NaN\n",
       "169   IDFI11            92.630        NaN\n",
       "295   RDPD11            85.390        NaN\n",
       "303   RNDP11            84.210        NaN\n",
       "189   KINP11            69.680        NaN\n",
       "170   IDGR11            64.330        NaN\n",
       "196   KNRE11            52.300        NaN\n",
       "299   REIT11            51.240        NaN\n",
       "253   PLRI11            37.710        NaN\n",
       "76    CXTL11            35.480        NaN\n",
       "282   RBRM11               NaN 160000.000\n",
       "92    ERCR11               NaN  76000.000\n",
       "35    BLMO11               NaN  20000.000\n",
       "335   STRX11               NaN  15816.000\n",
       "12   ANCR11B               NaN   3450.000\n",
       "117  FTCE11B               NaN   2870.000\n",
       "256   PQDP11               NaN   2070.000\n",
       "19   BBFI11B               NaN   2060.000\n",
       "112   FLRP11               NaN   1644.990\n",
       "125  GESE11B               NaN   1520.000"
      ]
     },
     "execution_count": 174,
     "metadata": {},
     "output_type": "execute_result"
    }
   ],
   "source": [
    "#concatenando os dois filtros\n",
    "pd.concat([top_div, cotacao_top10])"
   ]
  },
  {
   "attachments": {},
   "cell_type": "markdown",
   "metadata": {},
   "source": [
    "Podemos observar que nenhum dos dois filtros tem Papeis em comum, ou seja, não existe relação entre os FIIs de maiores cotações serem os de maiores dividendos."
   ]
  },
  {
   "attachments": {},
   "cell_type": "markdown",
   "metadata": {},
   "source": [
    "___\n",
    "### 9 - O FII com o maior valor de mercado é o que tem o maior fluxo de caixa?"
   ]
  },
  {
   "cell_type": "code",
   "execution_count": 189,
   "metadata": {},
   "outputs": [
    {
     "name": "stdout",
     "output_type": "stream",
     "text": [
      "O FII com o maior valor de mercado é:\n",
      "\n",
      "Papel                    ZIFI11\n",
      "Valor de Mercado    25520000000\n",
      "dtype: object\n",
      "\n",
      "\n",
      "O FII com o maior fluxo de caixa é:\n",
      "\n",
      "Papel            ZIFI11\n",
      "FFO Yield %   91706.560\n",
      "dtype: object\n"
     ]
    }
   ],
   "source": [
    "print('O FII com o maior valor de mercado é:\\n\\n{}'.format(df[['Papel', 'Valor de Mercado']].max()))\n",
    "print('\\n\\nO FII com o maior fluxo de caixa é:\\n\\n{}'.format(df[['Papel', 'FFO Yield %']].max()))"
   ]
  },
  {
   "attachments": {},
   "cell_type": "markdown",
   "metadata": {},
   "source": [
    "Podemos observar que o Papel `ZIFI11` tem o maior valor de mercado e também o maior fluxo de caixa."
   ]
  },
  {
   "attachments": {},
   "cell_type": "markdown",
   "metadata": {},
   "source": [
    "___\n",
    "### 10 - O FII com maior valor de mercado é o que tem a maior liquidez?"
   ]
  },
  {
   "cell_type": "code",
   "execution_count": 190,
   "metadata": {},
   "outputs": [
    {
     "name": "stdout",
     "output_type": "stream",
     "text": [
      "O FII com o maior valor de mercado é:\n",
      "\n",
      "Papel                    ZIFI11\n",
      "Valor de Mercado    25520000000\n",
      "dtype: object\n",
      "\n",
      "\n",
      "O FII com o maior liquidez é:\n",
      "\n",
      "Papel         ZIFI11\n",
      "Liquidez    11639100\n",
      "dtype: object\n"
     ]
    }
   ],
   "source": [
    "print('O FII com o maior valor de mercado é:\\n\\n{}'.format(df[['Papel','Valor de Mercado']].max()))\n",
    "print('\\n\\nO FII com o maior liquidez é:\\n\\n{}'.format(df[['Papel','Liquidez']].max()))"
   ]
  },
  {
   "attachments": {},
   "cell_type": "markdown",
   "metadata": {},
   "source": [
    "Podemos observar que o papel `ZIFI11` além de ter o maior valor de mercado e o maior fluxo de caixa, tem também a maior liquidez."
   ]
  },
  {
   "attachments": {},
   "cell_type": "markdown",
   "metadata": {},
   "source": [
    "___\n",
    "## Conclusão\n",
    "\n",
    "Existem diversas formas de fazer essa coleta, pois cada site é construído de uma forma e cada um tem uma estrutura de html diferente, o que pode tornar essa coleta mais fácil e mais difícil.\n",
    "\n",
    "Pudemos verificar o poder que essa ferramenta tem, tendo em vista que temos milhares de sites, plataformas e redes sociais com mais dos variados tipos e quantidades de dados e que podem ser coletados e utilizado a nossa favor gerando valor através de analises podendo até ser utilizado modelos de Machine Learning. "
   ]
  }
 ],
 "metadata": {
  "kernelspec": {
   "display_name": "base",
   "language": "python",
   "name": "python3"
  },
  "language_info": {
   "codemirror_mode": {
    "name": "ipython",
    "version": 3
   },
   "file_extension": ".py",
   "mimetype": "text/x-python",
   "name": "python",
   "nbconvert_exporter": "python",
   "pygments_lexer": "ipython3",
   "version": "3.9.13"
  },
  "orig_nbformat": 4,
  "vscode": {
   "interpreter": {
    "hash": "6cbf665ff151f623927725d070e2c0ecf0486c355e987d2782ddeceb63b82ece"
   }
  }
 },
 "nbformat": 4,
 "nbformat_minor": 2
}
